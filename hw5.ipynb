{
  "nbformat": 4,
  "nbformat_minor": 0,
  "metadata": {
    "colab": {
      "provenance": [],
      "collapsed_sections": [],
      "authorship_tag": "ABX9TyNgGeM0PU3yM0HLTbTg7gvW",
      "include_colab_link": true
    },
    "kernelspec": {
      "name": "python3",
      "display_name": "Python 3"
    },
    "language_info": {
      "name": "python"
    }
  },
  "cells": [
    {
      "cell_type": "markdown",
      "metadata": {
        "id": "view-in-github",
        "colab_type": "text"
      },
      "source": [
        "<a href=\"https://colab.research.google.com/github/pgiambuzzi/INF502/blob/main/hw5.ipynb\" target=\"_parent\"><img src=\"https://colab.research.google.com/assets/colab-badge.svg\" alt=\"Open In Colab\"/></a>"
      ]
    },
    {
      "cell_type": "code",
      "source": [
        "# This function finds the remainder of the division of the two given numbers, \n",
        "# divides that remainder by previous divisor, and repeats this process until the\n",
        "# remainder is zero. It then prints the divisor that resulted in a remainder of zero and identifies this as the GCF of a and b.\n",
        "\n",
        "def GCF(a, b):  # takes two numbers as the input\n",
        "  remainders = [a, b]  # creates a list where we will store our remainder values after each division\n",
        "  while a > 0 or b > 0:  # the function will loop through as long as the integers provided are positive\n",
        "    if a <= 0 or b <= 0: \n",
        "      print(\"Integers must be positive\")  # prints this message if one of the numbers provided is negative or zero\n",
        "      break  # stops the loop if the above message is printed\n",
        "    elif a % b == 0:\n",
        "      print(\"The GCF of\", a, \"and\", b, \"is:\", min(remainders))  # if the numbers provided are evenly divisible by \n",
        "                                                                # each other, then the minimum number between the two is the GCF \n",
        "    c = remainders[-2] % remainders[-1]  #  Divides the second to last number in the list by the last number in the list\n",
        "    remainders.append(c)  # the result of this division is added to the end of our list. \n",
        "    if remainders[-1] == 0:\n",
        "      break  # stops the loop if the last number in the list is 0, this prevents getting a ZeroDivisionError\n",
        "    elif remainders[-2] % remainders[-1] == 0:  # if this is true, then the last number in our list is the GCF\n",
        "      result = remainders[-1]  # selects the last item from our appended list, this is our GCF\n",
        "      print(\"The GCF of\", a, \"and\", b, \"is:\", result)  # prints the result with context"
      ],
      "metadata": {
        "id": "HCBNnSc4VlkD"
      },
      "execution_count": 127,
      "outputs": []
    },
    {
      "cell_type": "code",
      "source": [
        "# Examples:\n",
        "\n",
        "GCF(48, 30)\n",
        "\n",
        "GCF(40, 38)\n",
        "\n",
        "GCF(48, 8)\n",
        "\n",
        "GCF(18476, 887356)\n",
        "\n",
        "GCF(0, 60)\n",
        "\n",
        "GCF(-1, 10)"
      ],
      "metadata": {
        "colab": {
          "base_uri": "https://localhost:8080/"
        },
        "id": "0pJwZvGFusXO",
        "outputId": "de0e1323-5c64-411a-c996-09c6f1a39270"
      },
      "execution_count": 128,
      "outputs": [
        {
          "output_type": "stream",
          "name": "stdout",
          "text": [
            "The GCF of 48 and 30 is: 6\n",
            "The GCF of 40 and 38 is: 2\n",
            "The GCF of 48 and 8 is: 8\n",
            "The GCF of 18476 and 887356 is: 4\n",
            "Integers must be positive\n",
            "Integers must be positive\n"
          ]
        }
      ]
    }
  ]
}