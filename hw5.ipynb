{
  "nbformat": 4,
  "nbformat_minor": 0,
  "metadata": {
    "colab": {
      "provenance": [],
      "authorship_tag": "ABX9TyNaZ5J9sbILXz3vW3bo3tmz",
      "include_colab_link": true
    },
    "kernelspec": {
      "name": "python3",
      "display_name": "Python 3"
    },
    "language_info": {
      "name": "python"
    }
  },
  "cells": [
    {
      "cell_type": "markdown",
      "metadata": {
        "id": "view-in-github",
        "colab_type": "text"
      },
      "source": [
        "<a href=\"https://colab.research.google.com/github/pgiambuzzi/INF502/blob/main/hw5.ipynb\" target=\"_parent\"><img src=\"https://colab.research.google.com/assets/colab-badge.svg\" alt=\"Open In Colab\"/></a>"
      ]
    },
    {
      "cell_type": "code",
      "source": [
        "# This function finds the remainder of the division of the two given numbers, \n",
        "# divides that remainder by previous divisor, and repeats this process until the\n",
        "# remainder is zero. It then prints the divisor that resulted in a remainder of zero and identifies this as the GCF of a and b.\n",
        "def GCF(a, b):  # takes two numbers as the input\n",
        "  if a == b: \n",
        "    return a  # if the numbers provided are equal, then the GCF of those numbers is the number itself.\n",
        "  elif b == 0:\n",
        "    return a  # if the numbers provided are evenly divisible by each other, then b will become 0 and a will be the GCF. \n",
        "  else:\n",
        "    return GCF(b, a % b) # if b is not 0, the remainder of 'a' divided by 'b' will be the modulous divisor of the previous 'b' (now 'a') until b == 0"
      ],
      "metadata": {
        "id": "hLGHEAWRhUr8"
      },
      "execution_count": null,
      "outputs": []
    },
    {
      "cell_type": "code",
      "source": [
        "# Walkthrough of recursion used:\n",
        "\n",
        "#it does not matter whether a or b is the term that gets replaced each time because a%b == b%a\n",
        "\n",
        "# GCF(a, b)\n",
        "# GCF(48=a, 30=b)\n",
        "# GCF(b, a%b)\n",
        "# GCF(30, 48%30)\n",
        "# 48 % 30 = 18 = new b != 0\n",
        "# returns: GCF(30=a, 18=b)\n",
        "# GCF(18, 30%18)\n",
        "# 30 % 18 = 12 = new b != 0\n",
        "# returns: GCF(18=a, 12=b)\n",
        "# GCF(12, 18%12)\n",
        "# 18 % 12 = 6 = new b != 0\n",
        "# returns: GCF(12=a, 6=b)\n",
        "# GCF(6, 12%6) \n",
        "# 12 % 6 = 0\n",
        "# returns: GCF(6, 0) and new b == 0 \n",
        "# meets the conditional statement of \"elif b = 0, return a\"\n",
        "# thus a is returned and the answer is 6 "
      ],
      "metadata": {
        "id": "0pJwZvGFusXO"
      },
      "execution_count": null,
      "outputs": []
    },
    {
      "cell_type": "code",
      "source": [
        "def user_interface():\n",
        "  global a\n",
        "  global b\n",
        "  a = int(input(\"Please provide an iteger: \"))\n",
        "  b = int(input(\"Please provide a second integer: \"))"
      ],
      "metadata": {
        "id": "qfg2-Bluf4oN"
      },
      "execution_count": null,
      "outputs": []
    },
    {
      "cell_type": "code",
      "source": [
        "def main():\n",
        "  user_interface()\n",
        "  print(\"The GCF of\", a, \"and\", b, \"is:\", GCF(a, b))"
      ],
      "metadata": {
        "id": "dHKBwG0ReHMN"
      },
      "execution_count": null,
      "outputs": []
    },
    {
      "cell_type": "code",
      "source": [
        "main()"
      ],
      "metadata": {
        "id": "QwBu1ePCfDra",
        "outputId": "a0592ac4-19dd-48dc-c17a-367dc1719c3e",
        "colab": {
          "base_uri": "https://localhost:8080/"
        }
      },
      "execution_count": null,
      "outputs": [
        {
          "output_type": "stream",
          "name": "stdout",
          "text": [
            "Please provide an iteger: 30\n",
            "Please provide a second integer: 48\n",
            "The GCF of 30 and 48 is: 6\n"
          ]
        }
      ]
    },
    {
      "cell_type": "code",
      "source": [
        "main()"
      ],
      "metadata": {
        "id": "nrvFHisngba9",
        "outputId": "c7d09162-f020-43d4-87aa-dd9e50b6a6a4",
        "colab": {
          "base_uri": "https://localhost:8080/"
        }
      },
      "execution_count": null,
      "outputs": [
        {
          "output_type": "stream",
          "name": "stdout",
          "text": [
            "Please provide an iteger: 32\n",
            "Please provide a second integer: 20\n",
            "The GCF of 32 and 20 is: 4\n"
          ]
        }
      ]
    },
    {
      "cell_type": "code",
      "source": [
        "main()"
      ],
      "metadata": {
        "id": "eOshivyny13B",
        "outputId": "4086acee-de53-420e-cd1e-504a13e8108a",
        "colab": {
          "base_uri": "https://localhost:8080/"
        }
      },
      "execution_count": null,
      "outputs": [
        {
          "output_type": "stream",
          "name": "stdout",
          "text": [
            "Please provide an iteger: 20\n",
            "Please provide a second integer: 20\n",
            "The GCF of 20 and 20 is: 20\n"
          ]
        }
      ]
    },
    {
      "cell_type": "code",
      "source": [
        "main()"
      ],
      "metadata": {
        "id": "MVANArOAgmfn",
        "outputId": "3946ebc3-ccb4-4518-e8ab-1d8f32acbf50",
        "colab": {
          "base_uri": "https://localhost:8080/"
        }
      },
      "execution_count": null,
      "outputs": [
        {
          "output_type": "stream",
          "name": "stdout",
          "text": [
            "Please provide an iteger: 378892332\n",
            "Please provide a second integer: 54654654894654\n",
            "The GCF of 378892332 and 54654654894654 is: 6\n"
          ]
        }
      ]
    }
  ]
}