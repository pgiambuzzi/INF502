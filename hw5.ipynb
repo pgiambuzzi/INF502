{
  "nbformat": 4,
  "nbformat_minor": 0,
  "metadata": {
    "colab": {
      "provenance": [],
      "authorship_tag": "ABX9TyMHVTCxk+LJyhU1tNO7iJSz",
      "include_colab_link": true
    },
    "kernelspec": {
      "name": "python3",
      "display_name": "Python 3"
    },
    "language_info": {
      "name": "python"
    }
  },
  "cells": [
    {
      "cell_type": "markdown",
      "metadata": {
        "id": "view-in-github",
        "colab_type": "text"
      },
      "source": [
        "<a href=\"https://colab.research.google.com/github/pgiambuzzi/INF502/blob/main/hw5.ipynb\" target=\"_parent\"><img src=\"https://colab.research.google.com/assets/colab-badge.svg\" alt=\"Open In Colab\"/></a>"
      ]
    },
    {
      "cell_type": "code",
      "source": [
        "# This function finds the remainder of the division of the two given numbers, \n",
        "# divides that remainder by previous divisor, and repeats this process until the\n",
        "# remainder is zero. It then prints the divisor that resulted in a remainder of zero and identifies this as the GCF of a and b.\n",
        "def GCF(a, b):  # takes two numbers as the input\n",
        "  if a == b: \n",
        "    return a  # if the numbers provided are equal, then the GCF of those numbers is the number itself.\n",
        "  elif b == 0:\n",
        "    return a  # if the numbers provided are evenly divisible by each other, then b will become 0 and a will be the GCF. \n",
        "  else:\n",
        "    return GCF(b, a % b) # if b is not 0, the remainder of 'a' divided by 'b' will be the modulous divisor of the previous 'b' (now 'a') until b == 0"
      ],
      "metadata": {
        "id": "hLGHEAWRhUr8"
      },
      "execution_count": null,
      "outputs": []
    },
    {
      "cell_type": "code",
      "source": [
        "# Walkthrough of recursion used:\n",
        "\n",
        "#it does not matter whether a or b is the term that gets replaced each time because a%b == b%a\n",
        "\n",
        "# GCF(a, b)\n",
        "# GCF(48=a, 30=b)\n",
        "# GCF(b, a%b)\n",
        "# GCF(30, 48%30)\n",
        "# 48 % 30 = 18 = new b != 0\n",
        "# returns: GCF(30=a, 18=b)\n",
        "# GCF(18, 30%18)\n",
        "# 30 % 18 = 12 = new b != 0\n",
        "# returns: GCF(18=a, 12=b)\n",
        "# GCF(12, 18%12)\n",
        "# 18 % 12 = 6 = new b != 0\n",
        "# returns: GCF(12=a, 6=b)\n",
        "# GCF(6, 12%6) \n",
        "# 12 % 6 = 0\n",
        "# returns: GCF(6, 0) and new b == 0 \n",
        "# meets the conditional statement of \"elif b = 0, return a\"\n",
        "# thus a is returned and the answer is 6 "
      ],
      "metadata": {
        "id": "0pJwZvGFusXO"
      },
      "execution_count": null,
      "outputs": []
    },
    {
      "cell_type": "code",
      "source": [
        "GCF(30, 48)"
      ],
      "metadata": {
        "id": "HqtYX-pfyAd4",
        "outputId": "9c50d6a3-0226-4e81-a3ff-2c84c05f5a06",
        "colab": {
          "base_uri": "https://localhost:8080/"
        }
      },
      "execution_count": null,
      "outputs": [
        {
          "output_type": "execute_result",
          "data": {
            "text/plain": [
              "6"
            ]
          },
          "metadata": {},
          "execution_count": 37
        }
      ]
    },
    {
      "cell_type": "code",
      "source": [
        "GCF(32, 20)"
      ],
      "metadata": {
        "id": "TNKoV7cayiNb",
        "outputId": "74972e86-6386-49a8-b3e6-86581ce11449",
        "colab": {
          "base_uri": "https://localhost:8080/"
        }
      },
      "execution_count": null,
      "outputs": [
        {
          "output_type": "execute_result",
          "data": {
            "text/plain": [
              "4"
            ]
          },
          "metadata": {},
          "execution_count": 43
        }
      ]
    },
    {
      "cell_type": "code",
      "source": [
        "GCF(20, 20)"
      ],
      "metadata": {
        "id": "eOshivyny13B",
        "outputId": "65e2418f-d005-4b35-8542-22aedf2a9037",
        "colab": {
          "base_uri": "https://localhost:8080/"
        }
      },
      "execution_count": null,
      "outputs": [
        {
          "output_type": "execute_result",
          "data": {
            "text/plain": [
              "20"
            ]
          },
          "metadata": {},
          "execution_count": 44
        }
      ]
    },
    {
      "cell_type": "code",
      "source": [
        "GCF(378892332, 54654654894654)"
      ],
      "metadata": {
        "id": "ZA8czQIey51r",
        "outputId": "74f4d0ce-a507-49a5-8145-9ae393725c2a",
        "colab": {
          "base_uri": "https://localhost:8080/"
        }
      },
      "execution_count": null,
      "outputs": [
        {
          "output_type": "execute_result",
          "data": {
            "text/plain": [
              "6"
            ]
          },
          "metadata": {},
          "execution_count": 45
        }
      ]
    }
  ]
}